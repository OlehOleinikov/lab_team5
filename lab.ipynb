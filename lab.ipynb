{
 "cells": [
  {
   "cell_type": "code",
   "execution_count": 3,
   "metadata": {
    "collapsed": true,
    "ExecuteTime": {
     "end_time": "2024-06-10T06:49:01.651416Z",
     "start_time": "2024-06-10T06:49:01.644409100Z"
    }
   },
   "outputs": [],
   "source": [
    "data_file = r'C:\\Users\\matematik\\Documents\\lab\\rbcarticles.json'"
   ]
  },
  {
   "cell_type": "code",
   "execution_count": 248,
   "outputs": [
    {
     "data": {
      "text/plain": "                                                               688   \\\narticle_url       https://www.rbc.ua/rus/styler/tse-ilyuziya-biz...   \narticle_uuid      0356f62afa0e06b0b922116dde5fe88935fa8e7307af17...   \narticle_id                                               1698922428   \narticle_datetime                                2023-11-02 14:10:00   \narticle_title     Виїзд біженців за кордон - українка пояснила ч...   \narticle_text      Українка, яка проживає з дітьми в Англії, розп...   \n\n                                                               222   \\\narticle_url       https://www.rbc.ua/rus/news/timchasoviy-zahist...   \narticle_uuid      3ee128358d373e6b691dac5db1f1c2c2cc3b84a8474f3f...   \narticle_id                                               1705654549   \narticle_datetime                                2024-01-19 11:00:00   \narticle_title     Українські біженці у Польщі – тимчасовий захис...   \narticle_text      Про це повідомляє з на Посольство України у По...   \n\n                                                               2192  \narticle_url       https://www.rbc.ua/rus/news/rivnenskiy-oblasti...  \narticle_uuid      8bec6f677ec10b083fc0b62c13e2280bd96e08a0a3d333...  \narticle_id                                               1666960772  \narticle_datetime                                2022-10-28 15:39:00  \narticle_title     Переселенців у Рівненській області перевірять ...  \narticle_text      У Рівненській області перевірять внутрішньопер...  ",
      "text/html": "<div>\n<style scoped>\n    .dataframe tbody tr th:only-of-type {\n        vertical-align: middle;\n    }\n\n    .dataframe tbody tr th {\n        vertical-align: top;\n    }\n\n    .dataframe thead th {\n        text-align: right;\n    }\n</style>\n<table border=\"1\" class=\"dataframe\">\n  <thead>\n    <tr style=\"text-align: right;\">\n      <th></th>\n      <th>688</th>\n      <th>222</th>\n      <th>2192</th>\n    </tr>\n  </thead>\n  <tbody>\n    <tr>\n      <th>article_url</th>\n      <td>https://www.rbc.ua/rus/styler/tse-ilyuziya-biz...</td>\n      <td>https://www.rbc.ua/rus/news/timchasoviy-zahist...</td>\n      <td>https://www.rbc.ua/rus/news/rivnenskiy-oblasti...</td>\n    </tr>\n    <tr>\n      <th>article_uuid</th>\n      <td>0356f62afa0e06b0b922116dde5fe88935fa8e7307af17...</td>\n      <td>3ee128358d373e6b691dac5db1f1c2c2cc3b84a8474f3f...</td>\n      <td>8bec6f677ec10b083fc0b62c13e2280bd96e08a0a3d333...</td>\n    </tr>\n    <tr>\n      <th>article_id</th>\n      <td>1698922428</td>\n      <td>1705654549</td>\n      <td>1666960772</td>\n    </tr>\n    <tr>\n      <th>article_datetime</th>\n      <td>2023-11-02 14:10:00</td>\n      <td>2024-01-19 11:00:00</td>\n      <td>2022-10-28 15:39:00</td>\n    </tr>\n    <tr>\n      <th>article_title</th>\n      <td>Виїзд біженців за кордон - українка пояснила ч...</td>\n      <td>Українські біженці у Польщі – тимчасовий захис...</td>\n      <td>Переселенців у Рівненській області перевірять ...</td>\n    </tr>\n    <tr>\n      <th>article_text</th>\n      <td>Українка, яка проживає з дітьми в Англії, розп...</td>\n      <td>Про це повідомляє з на Посольство України у По...</td>\n      <td>У Рівненській області перевірять внутрішньопер...</td>\n    </tr>\n  </tbody>\n</table>\n</div>"
     },
     "execution_count": 248,
     "metadata": {},
     "output_type": "execute_result"
    }
   ],
   "source": [
    "import json\n",
    "import pandas as pd\n",
    "import re\n",
    "from datetime import datetime\n",
    "\n",
    "# Перетворення у DataFrame\n",
    "df = pd.DataFrame(data)\n",
    "\n",
    "# Маппінг для заміни українських назв місяців і днів тижня на англійські\n",
    "months = {\n",
    "    'січня': 'January', 'лютого': 'February', 'березня': 'March',\n",
    "    'квітня': 'April', 'травня': 'May', 'червня': 'June',\n",
    "    'липня': 'July', 'серпня': 'August', 'вересня': 'September',\n",
    "    'жовтня': 'October', 'листопада': 'November', 'грудня': 'December'\n",
    "}\n",
    "\n",
    "days = {\n",
    "    'Понеділок': 'Monday', 'Вівторок': 'Tuesday', 'Середа': 'Wednesday',\n",
    "    'Четвер': 'Thursday', 'П\\'ятниця': 'Friday', 'Субота': 'Saturday', 'Неділя': 'Sunday'\n",
    "}\n",
    "\n",
    "# Список рядків, які потрібно видалити\n",
    "text_to_remove = [' | РБК-Україна', \" Раніше повідомлялось, що\", \"Нагадаємо, ми писали.\"]\n",
    "\n",
    "# Список фраз, які потрібно видаляти з кінця тексту\n",
    "end_phrases_to_remove = [\n",
    "    'До речі, раніше ми писали, що',\n",
    "    'Нагадаємо, раніше.',\n",
    "    \"Раніше повідомлялося,\",\n",
    "    \"Раніше ми писали,\",\n",
    "    \"А ще розповідали,\",\n",
    "    'Також ми писали,',\n",
    "    \"Також ми розповідали,\"\n",
    "    'Ми писали,',\n",
    "    \" Тим часом за результатами опитування стало відомо,\",\n",
    "    \" Нагадаємо, ми писали, що.\",\n",
    "    \" Нагадаємо, ми писали,\",\n",
    "    \" Нагадаємо, ми писали.\",\n",
    "    \" Термінові та важливі повідомлення про війну Росії проти України читайте на каналі РБК-Україна в.\",\n",
    "    \"Термінові та важливі повідомлення про війну Росії проти України читайте на каналі РБК-Україна в.\"\n",
    "    \"Термінові та важливі повідомлення про війну Росії проти України читайте на каналі.\",\n",
    "    \"Нагадаємо, раніше ми пояснювали,\",\n",
    "    \"Також ми розповідали, і чому це важливо.\",\n",
    "    \"Ми писали, Також повідомлялося.\",\n",
    "    \"Раніше ми розповідали, чи зараховується Читайте також, які\",\n",
    "    \"Ми писали, Також за результатами свіжого опитування стало відомо,\",\n",
    "    \"До речі, раніше ми писали, А також розповідали, що\",\n",
    "    \"Раніше ми повідомляли, що.\",\n",
    "    \", - читайте в\",\n",
    "    \"Нагадаємо, у Також повідомлялося, що.\",\n",
    "    \"Ми писали, Також повідомлялося, як переселенцям отримати\",\n",
    "    \"Ми розповідали, Також повідомлялося.\",\n",
    "    \"Також ми розповідали, що\",\n",
    "    \"Докладніше про нові тарифи на ці напрямки –.\",\n",
    "    \"Також ми розповідали.\",\n",
    "    \"Нагадаємо, Також українка поділилася з РБК-Україна своєю думкою про те,\",\n",
    "    \"РБК-Україна також писало, що.\",\n",
    "    \"Термінові та важливі повідомлення про війну Росії проти України читайте на каналі.\",\n",
    "    \"Нагадаємо, ми розповідали.\"\n",
    "\n",
    "]\n",
    "\n",
    "# Функція для заміни українських назв на англійські\n",
    "def replace_uk_to_en(date_str):\n",
    "    for ua_month, en_month in months.items():\n",
    "        date_str = date_str.replace(ua_month, en_month)\n",
    "    for ua_day, en_day in days.items():\n",
    "        date_str = date_str.replace(ua_day, en_day)\n",
    "    return date_str\n",
    "\n",
    "# Заміна назв місяців і днів та перетворення у datetime\n",
    "df['article_datetime'] = df['article_datetime'].apply(replace_uk_to_en)\n",
    "df['article_datetime'] = pd.to_datetime(df['article_datetime'], format='%A %d %B %Y %H:%M ')\n",
    "\n",
    "# Функція для очищення тексту від технічних символів і видалення рядків\n",
    "def clean_text(text):\n",
    "    # Видалення екрануючих символів, зайвих пробілів, нових рядків і табуляцій\n",
    "    text = re.sub(r'\\\\[tn]', ' ', text)\n",
    "    text = re.sub(r'\\s+', ' ', text).strip()\n",
    "\n",
    "\n",
    "    # Видалення фраз\n",
    "    for phrase in end_phrases_to_remove:\n",
    "        text = text.replace(phrase, '')\n",
    "\n",
    "    # Видалення вказаних рядків\n",
    "    for t in text_to_remove:\n",
    "        text = text.replace(t, '')\n",
    "    # Видалення пробілів перед крапкою\n",
    "    text = re.sub(r'\\s+\\.', '.', text)\n",
    "    # Видалення пробілів перед комами\n",
    "    text = re.sub(r'\\s+,', ',', text)\n",
    "    # Видалення повторюваних ком\n",
    "    text = re.sub(r',+', ',', text)\n",
    "    # Додавання пробілу після коми, якщо його немає\n",
    "    text = re.sub(r',(\\S)', r', \\1', text)\n",
    "    # Перетворення екранованих апострофів на звичайні\n",
    "    text = re.sub(r\"\\\\'\", \"'\", text)\n",
    "    # Заміна \", .\" на крапку\n",
    "    text = re.sub(r',\\s*\\.', '.', text)\n",
    "\n",
    "    text = re.sub(rf'{re.escape(\"Зокрема.\")}$', '.', text)\n",
    "    text = re.sub(rf'{re.escape(\" Також минулого тижня у Німеччині.\")}$', '.', text)\n",
    "    text = re.sub(rf'{re.escape(\"Термінові та важливі повідомлення про війну Росії проти України читайте на каналі.\")}$', '.', text)\n",
    "    text = re.sub(rf'{re.escape(\"Також ми повідомляли,\")}$', '.', text)\n",
    "    text = re.sub(rf'{re.escape(\", де.\")}$', '.', text)\n",
    "    text = re.sub(rf'{re.escape(\"Нагадаємо, ми повідомляли, що.\")}$', '.', text)\n",
    "    text = re.sub(rf'{re.escape(\"чому .\")}$', '.', text)\n",
    "    text = re.sub(rf'{re.escape(\"Ми писали, \")}$', '.', text)\n",
    "    text = re.sub(rf'{re.escape(\"Також ми розповідали,\")}$', '.', text)\n",
    "    text = re.sub(rf'{re.escape(\"  що Крім того,\")}$', '.', text)\n",
    "    text = re.sub(rf'{re.escape(\".  що\")}$', '.', text)\n",
    "    text = re.sub(rf'{re.escape(\".  що.\")}$', '.', text)\n",
    "    text = re.sub(rf'{re.escape(\". що\")}$', '.', text)\n",
    "    text = re.sub(rf'{re.escape(\". що.\")}$', '.', text)\n",
    "    text = re.sub(rf'{re.escape(\",\")}$', '.', text)\n",
    "    # Видалення повторюваних ком та крапок після очищення\n",
    "    text = re.sub(r'\\.\\s\\.', ',', text)\n",
    "    text = re.sub(r',+', ',', text)\n",
    "    text = re.sub(r'\\.\\.+', '.', text)\n",
    "\n",
    "    return text\n",
    "\n",
    "# Очистка тексту\n",
    "df['article_title'] = df['article_title'].apply(clean_text)\n",
    "df['article_text'] = df['article_text'].apply(clean_text)\n",
    "\n",
    "df.sample(3).transpose()"
   ],
   "metadata": {
    "collapsed": false,
    "ExecuteTime": {
     "end_time": "2024-06-10T08:28:48.672650400Z",
     "start_time": "2024-06-10T08:28:48.047079700Z"
    }
   }
  },
  {
   "cell_type": "code",
   "execution_count": 249,
   "outputs": [],
   "source": [
    "current_index = 12\n",
    "\n",
    "def print_next_article(start_from=None):\n",
    "    global current_index\n",
    "    if start_from is not None:\n",
    "        current_index = start_from\n",
    "\n",
    "    if current_index < len(df):\n",
    "        article_text = df.iloc[current_index].article_text\n",
    "        print('Стаття №', current_index + 1)\n",
    "        print(article_text)\n",
    "        current_index += 1\n",
    "    else:\n",
    "        print(\"Більше статей немає.\")\n"
   ],
   "metadata": {
    "collapsed": false,
    "ExecuteTime": {
     "end_time": "2024-06-10T08:28:51.909467300Z",
     "start_time": "2024-06-10T08:28:51.893936Z"
    }
   }
  },
  {
   "cell_type": "code",
   "execution_count": 257,
   "outputs": [
    {
     "name": "stdout",
     "output_type": "stream",
     "text": [
      "Стаття № 16\n",
      "Які номерні знаки можуть отримати біженці на придбане у Чехії авто, розповідає з посиланням на. Українці, які Чехії перебувають із тимчасовим захистом та візами толерантності, можуть придбати автомобіль в цій країні чи в іншій країні ЄС. Але не можуть отримати стандартний чеський номерний знак, пояснили виданню у Міністерстві транспорту Чехії. У відомстві зазначили, що власником транспортного засобу, зареєстрованого в Реєстрі дорожніх транспортних засобів, може бути іноземець з тимчасовим захистом або візою толерантності. \"Але водієм транспортного засобу відповідно до закону про умови експлуатації транспортних засобів на дорогах, може бути особа, яка має дозвіл на постійне проживання (trvalý pobyt), дозвіл на довгострокове проживання (dlouhodobý pobyt) або яка отримала притулок (azyl) на території Чеської Республіки\", – пояснили у Мінтрансі. Це означає, що тимчасовий захист не входить до категорії дозволів на перебування, що дозволяють чеську реєстрацію авто. Українці із тимчасовим захистом чи візою толерантності мають зареєструвати автомобіль із \"тимчасовим номерами\" для експорту. Таку реєстрацію треба поновлювати що три місяці. \"Термін дії такого номерного знаку для вивезення не пов’язаний з терміном дії візи тимчасового захисту або толерантності. У разі використання транспортного засобу після закінчення терміну дії реєстраційного знаку для вивезення транспортного засобу, власник може звернутися до уповноваженого органу із заявою про видачу нового реєстраційного знаку того ж типу\", – зазначили у відомстві. Із 1 січня 2024 року реєстрація автомобілів біженців із України у Чехії обовʼязкова. Зареєструвати машину необхідно не пізніше ніж через 7 днів після отримання тимчасового захисту або візи толерантності. Зробити це треба у реєстрі водіїв за місцем проживання. Керування автомобілем із українськими номерами, який біженці не зареєстрували у Чехії, вважається правопорушенням і карається штрафом до 30 тис. чеських крон (1186 євро). За даними відомства, у січні 2024 року в Чехії зареєстровали 18, 5 тисяч автомобілів на українських номерах. Без обліку при вїзді до України треба буде сплачувати мито. Також ми розповідали.\n"
     ]
    }
   ],
   "source": [
    "print_next_article()"
   ],
   "metadata": {
    "collapsed": false,
    "ExecuteTime": {
     "end_time": "2024-06-10T08:29:21.770214700Z",
     "start_time": "2024-06-10T08:29:21.765210100Z"
    }
   }
  }
 ],
 "metadata": {
  "kernelspec": {
   "display_name": "Python 3",
   "language": "python",
   "name": "python3"
  },
  "language_info": {
   "codemirror_mode": {
    "name": "ipython",
    "version": 2
   },
   "file_extension": ".py",
   "mimetype": "text/x-python",
   "name": "python",
   "nbconvert_exporter": "python",
   "pygments_lexer": "ipython2",
   "version": "2.7.6"
  }
 },
 "nbformat": 4,
 "nbformat_minor": 0
}
