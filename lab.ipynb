{
 "cells": [
  {
   "cell_type": "code",
   "execution_count": 3,
   "metadata": {
    "collapsed": true,
    "ExecuteTime": {
     "end_time": "2024-06-10T06:49:01.651416Z",
     "start_time": "2024-06-10T06:49:01.644409100Z"
    }
   },
   "outputs": [],
   "source": [
    "data_file = r'C:\\Users\\matematik\\Documents\\lab\\rbcarticles.json'"
   ]
  },
  {
   "cell_type": "code",
   "execution_count": 264,
   "outputs": [
    {
     "data": {
      "text/plain": "                                                               94    \\\narticle_url       https://www.rbc.ua/rus/travel/proyizniy-49-evr...   \narticle_uuid      6c12f15508860a7d5083afb7191abd5deba814b40475d1...   \narticle_id                                               1703608109   \narticle_datetime                                2023-12-27 11:22:00   \narticle_title     Проїзний в Німеччині за 49 євро – чи діятиме у...   \narticle_text      Про це повідомляє з посиланням на німецькі ЗМІ...   \n\n                                                               304   \\\narticle_url       https://www.rbc.ua/rus/news/k-uchasniku-boyovi...   \narticle_uuid      b7a9b0485c0676661dbcfa3b2fb70cb019313b45b454e8...   \narticle_id                                               1703777169   \narticle_datetime                                2024-01-14 17:53:00   \narticle_title     Пільги на комунальні послуги для учасників бой...   \narticle_text      Учасники бойових дій мають право, зокрема, на ...   \n\n                                                               1306  \narticle_url       https://www.rbc.ua/rus/travel/wizz-air-zapusti...  \narticle_uuid      3149afb9f10900848935a0b221ce3089723fd074f7bd37...  \narticle_id                                               1683893776  \narticle_datetime                                2023-05-12 15:16:00  \narticle_title     Wizz Air запустить нові маршрути з Польщі - ку...  \narticle_text      Бюджетна авіакомпанія Wizz Air відкриє 8 нових...  ",
      "text/html": "<div>\n<style scoped>\n    .dataframe tbody tr th:only-of-type {\n        vertical-align: middle;\n    }\n\n    .dataframe tbody tr th {\n        vertical-align: top;\n    }\n\n    .dataframe thead th {\n        text-align: right;\n    }\n</style>\n<table border=\"1\" class=\"dataframe\">\n  <thead>\n    <tr style=\"text-align: right;\">\n      <th></th>\n      <th>94</th>\n      <th>304</th>\n      <th>1306</th>\n    </tr>\n  </thead>\n  <tbody>\n    <tr>\n      <th>article_url</th>\n      <td>https://www.rbc.ua/rus/travel/proyizniy-49-evr...</td>\n      <td>https://www.rbc.ua/rus/news/k-uchasniku-boyovi...</td>\n      <td>https://www.rbc.ua/rus/travel/wizz-air-zapusti...</td>\n    </tr>\n    <tr>\n      <th>article_uuid</th>\n      <td>6c12f15508860a7d5083afb7191abd5deba814b40475d1...</td>\n      <td>b7a9b0485c0676661dbcfa3b2fb70cb019313b45b454e8...</td>\n      <td>3149afb9f10900848935a0b221ce3089723fd074f7bd37...</td>\n    </tr>\n    <tr>\n      <th>article_id</th>\n      <td>1703608109</td>\n      <td>1703777169</td>\n      <td>1683893776</td>\n    </tr>\n    <tr>\n      <th>article_datetime</th>\n      <td>2023-12-27 11:22:00</td>\n      <td>2024-01-14 17:53:00</td>\n      <td>2023-05-12 15:16:00</td>\n    </tr>\n    <tr>\n      <th>article_title</th>\n      <td>Проїзний в Німеччині за 49 євро – чи діятиме у...</td>\n      <td>Пільги на комунальні послуги для учасників бой...</td>\n      <td>Wizz Air запустить нові маршрути з Польщі - ку...</td>\n    </tr>\n    <tr>\n      <th>article_text</th>\n      <td>Про це повідомляє з посиланням на німецькі ЗМІ...</td>\n      <td>Учасники бойових дій мають право, зокрема, на ...</td>\n      <td>Бюджетна авіакомпанія Wizz Air відкриє 8 нових...</td>\n    </tr>\n  </tbody>\n</table>\n</div>"
     },
     "execution_count": 264,
     "metadata": {},
     "output_type": "execute_result"
    }
   ],
   "source": [
    "import json\n",
    "import pandas as pd\n",
    "import re\n",
    "from datetime import datetime\n",
    "\n",
    "# Перетворення у DataFrame\n",
    "df = pd.DataFrame(data)\n",
    "\n",
    "# Маппінг для заміни українських назв місяців і днів тижня на англійські\n",
    "months = {\n",
    "    'січня': 'January', 'лютого': 'February', 'березня': 'March',\n",
    "    'квітня': 'April', 'травня': 'May', 'червня': 'June',\n",
    "    'липня': 'July', 'серпня': 'August', 'вересня': 'September',\n",
    "    'жовтня': 'October', 'листопада': 'November', 'грудня': 'December'\n",
    "}\n",
    "\n",
    "days = {\n",
    "    'Понеділок': 'Monday', 'Вівторок': 'Tuesday', 'Середа': 'Wednesday',\n",
    "    'Четвер': 'Thursday', 'П\\'ятниця': 'Friday', 'Субота': 'Saturday', 'Неділя': 'Sunday'\n",
    "}\n",
    "\n",
    "# Список рядків, які потрібно видалити\n",
    "text_to_remove = [' | РБК-Україна', \" Раніше повідомлялось, що\", \"Нагадаємо, ми писали.\"]\n",
    "\n",
    "# Список фраз, які потрібно видаляти з кінця тексту\n",
    "end_phrases_to_remove = [\n",
    "    'До речі, раніше ми писали, що',\n",
    "    'Нагадаємо, раніше.',\n",
    "    \"Раніше повідомлялося,\",\n",
    "    \"Раніше ми писали,\",\n",
    "    \"А ще розповідали,\",\n",
    "    'Також ми писали,',\n",
    "    \"Також ми розповідали,\"\n",
    "    'Ми писали,',\n",
    "    \" Тим часом за результатами опитування стало відомо,\",\n",
    "    \" Нагадаємо, ми писали, що.\",\n",
    "    \" Нагадаємо, ми писали,\",\n",
    "    \" Нагадаємо, ми писали.\",\n",
    "    \" Термінові та важливі повідомлення про війну Росії проти України читайте на каналі РБК-Україна в.\",\n",
    "    \"Термінові та важливі повідомлення про війну Росії проти України читайте на каналі РБК-Україна в.\"\n",
    "    \"Термінові та важливі повідомлення про війну Росії проти України читайте на каналі.\",\n",
    "    \"Нагадаємо, раніше ми пояснювали,\",\n",
    "    \"Також ми розповідали, і чому це важливо.\",\n",
    "    \"Ми писали, Також повідомлялося.\",\n",
    "    \"Раніше ми розповідали, чи зараховується Читайте також, які\",\n",
    "    \"Ми писали, Також за результатами свіжого опитування стало відомо,\",\n",
    "    \"До речі, раніше ми писали, А також розповідали, що\",\n",
    "    \"Раніше ми повідомляли, що.\",\n",
    "    \", - читайте в\",\n",
    "    \"Нагадаємо, у Також повідомлялося, що.\",\n",
    "    \"Ми писали, Також повідомлялося, як переселенцям отримати\",\n",
    "    \"Ми розповідали, Також повідомлялося.\",\n",
    "    \"Також ми розповідали, що\",\n",
    "    \"Докладніше про нові тарифи на ці напрямки –.\",\n",
    "    \"Також ми розповідали.\",\n",
    "    \"Нагадаємо, Також українка поділилася з РБК-Україна своєю думкою про те,\",\n",
    "    \"РБК-Україна також писало, що.\",\n",
    "    \"Термінові та важливі повідомлення про війну Росії проти України читайте на каналі.\",\n",
    "    \"Нагадаємо, ми розповідали.\",\n",
    "    \"Також ми розповідали.\"\n",
    "\n",
    "]\n",
    "\n",
    "# Функція для заміни українських назв на англійські\n",
    "def replace_uk_to_en(date_str):\n",
    "    for ua_month, en_month in months.items():\n",
    "        date_str = date_str.replace(ua_month, en_month)\n",
    "    for ua_day, en_day in days.items():\n",
    "        date_str = date_str.replace(ua_day, en_day)\n",
    "    return date_str\n",
    "\n",
    "# Заміна назв місяців і днів та перетворення у datetime\n",
    "df['article_datetime'] = df['article_datetime'].apply(replace_uk_to_en)\n",
    "df['article_datetime'] = pd.to_datetime(df['article_datetime'], format='%A %d %B %Y %H:%M ')\n",
    "\n",
    "# Функція для очищення тексту від технічних символів і видалення рядків\n",
    "def clean_text(text):\n",
    "    # Видалення екрануючих символів, зайвих пробілів, нових рядків і табуляцій\n",
    "    text = re.sub(r'\\\\[tn]', ' ', text)\n",
    "    text = re.sub(r'\\s+', ' ', text).strip()\n",
    "\n",
    "\n",
    "    # Видалення фраз\n",
    "    for phrase in end_phrases_to_remove:\n",
    "        text = text.replace(phrase, '')\n",
    "\n",
    "    # Видалення вказаних рядків\n",
    "    for t in text_to_remove:\n",
    "        text = text.replace(t, '')\n",
    "    # Видалення пробілів перед крапкою\n",
    "    text = re.sub(r'\\s+\\.', '.', text)\n",
    "    # Видалення пробілів перед комами\n",
    "    text = re.sub(r'\\s+,', ',', text)\n",
    "    # Видалення повторюваних ком\n",
    "    text = re.sub(r',+', ',', text)\n",
    "    # Додавання пробілу після коми, якщо його немає\n",
    "    text = re.sub(r',(\\S)', r', \\1', text)\n",
    "    # Перетворення екранованих апострофів на звичайні\n",
    "    text = re.sub(r\"\\\\'\", \"'\", text)\n",
    "    # Заміна \", .\" на крапку\n",
    "    text = re.sub(r',\\s*\\.', '.', text)\n",
    "\n",
    "    text = re.sub(rf'{re.escape(\"Також ми розповідали.\")}$', '.', text)\n",
    "    text = re.sub(rf'{re.escape(\"Зокрема.\")}$', '.', text)\n",
    "    text = re.sub(rf'{re.escape(\" Також минулого тижня у Німеччині.\")}$', '.', text)\n",
    "    text = re.sub(rf'{re.escape(\"Термінові та важливі повідомлення про війну Росії проти України читайте на каналі.\")}$', '.', text)\n",
    "    text = re.sub(rf'{re.escape(\"Також ми повідомляли,\")}$', '.', text)\n",
    "    text = re.sub(rf'{re.escape(\", де.\")}$', '.', text)\n",
    "    text = re.sub(rf'{re.escape(\"Нагадаємо, ми повідомляли, що.\")}$', '.', text)\n",
    "    text = re.sub(rf'{re.escape(\"чому .\")}$', '.', text)\n",
    "    text = re.sub(rf'{re.escape(\"Ми писали, \")}$', '.', text)\n",
    "    text = re.sub(rf'{re.escape(\"Також ми розповідали,\")}$', '.', text)\n",
    "    text = re.sub(rf'{re.escape(\"  що Крім того,\")}$', '.', text)\n",
    "    text = re.sub(rf'{re.escape(\".  що\")}$', '.', text)\n",
    "    text = re.sub(rf'{re.escape(\".  що.\")}$', '.', text)\n",
    "    text = re.sub(rf'{re.escape(\". що\")}$', '.', text)\n",
    "    text = re.sub(rf'{re.escape(\". що.\")}$', '.', text)\n",
    "    text = re.sub(rf'{re.escape(\",\")}$', '.', text)\n",
    "    text = re.sub(r'\\.\\s\\.', ',', text)\n",
    "    text = re.sub(r',+', ',', text)\n",
    "    text = re.sub(r'\\.\\.+', '.', text)\n",
    "    text = text.strip()\n",
    "    text = re.sub(r',$', '.', text)\n",
    "\n",
    "\n",
    "\n",
    "    return text\n",
    "\n",
    "# Очистка тексту\n",
    "df['article_title'] = df['article_title'].apply(clean_text)\n",
    "df['article_text'] = df['article_text'].apply(clean_text)\n",
    "\n",
    "df.sample(3).transpose()"
   ],
   "metadata": {
    "collapsed": false,
    "ExecuteTime": {
     "end_time": "2024-06-10T08:39:06.870848600Z",
     "start_time": "2024-06-10T08:39:06.237272200Z"
    }
   }
  },
  {
   "cell_type": "code",
   "execution_count": 265,
   "outputs": [],
   "source": [
    "current_index = 15\n",
    "\n",
    "def print_next_article(start_from=None):\n",
    "    global current_index\n",
    "    if start_from is not None:\n",
    "        current_index = start_from\n",
    "\n",
    "    if current_index < len(df):\n",
    "        article_text = df.iloc[current_index].article_text\n",
    "        print('Стаття №', current_index + 1)\n",
    "        print(article_text)\n",
    "        current_index += 1\n",
    "    else:\n",
    "        print(\"Більше статей немає.\")\n"
   ],
   "metadata": {
    "collapsed": false,
    "ExecuteTime": {
     "end_time": "2024-06-10T08:39:08.632577Z",
     "start_time": "2024-06-10T08:39:08.616562600Z"
    }
   }
  },
  {
   "cell_type": "code",
   "execution_count": 278,
   "outputs": [
    {
     "name": "stdout",
     "output_type": "stream",
     "text": [
      "Стаття № 28\n",
      "Одним із критеріїв буде соціальна самодостатність, повідомляє з посиланням на. У Міністерстві внутрішніх справ Чехії готують систему, за яких умов українці зможуть залишатися у країні після закінчення дії тимчасового захисту. Одним із критеріїв буде соціальна самодостатніть, повідомив голова МВС Він планує найближчим часом презентувати ці умови урядовій робочій групі, яка розробляє плани адаптації й інтеграції біженців. Також планується провести переговори на цю тему з опозицією, частина якої налаштована проти прийому біженців із України. Раніше Віт Ракушан сказав, що у Чехії захоче залишитися 180 тисяч біженців. Такі підрахунки базуються на результатах опитування PAQ Research, за якими 58% українських біженців не планували повертатися до України з Чехії у найближчі два роки. Станом на початок березня 2024 року у Чехії було зареєстровано понад 386 тисяч осіб із тимчасовим захистом. За даними Бюро працевлаштування, наприкінці січня 2024 року працювали 117 тисяч українських біженців. За інформацією джерел видання Seznam Zprávy, для охочих залишитися у Чехії визначають суворі умови. Ті, хто проситиме про дозвіл на тривале перебування, не повинні отримувати в Чехії. Також можуть запровадити вимогу мати. Чиновники вивчатимуть заявника, чи вистачатиме їх на життя. І ще однією умовою може бути. що. Це має відбуватися через посольства та на європейському рівнях.  буде з українськими біженцями у Чехії після закінчення тимчасового захисту. Чеська – на випадок збільшення чи зменшення хвилі міграції.\n"
     ]
    }
   ],
   "source": [
    "print_next_article()"
   ],
   "metadata": {
    "collapsed": false,
    "ExecuteTime": {
     "end_time": "2024-06-10T08:39:28.288459Z",
     "start_time": "2024-06-10T08:39:28.270442100Z"
    }
   }
  }
 ],
 "metadata": {
  "kernelspec": {
   "display_name": "Python 3",
   "language": "python",
   "name": "python3"
  },
  "language_info": {
   "codemirror_mode": {
    "name": "ipython",
    "version": 2
   },
   "file_extension": ".py",
   "mimetype": "text/x-python",
   "name": "python",
   "nbconvert_exporter": "python",
   "pygments_lexer": "ipython2",
   "version": "2.7.6"
  }
 },
 "nbformat": 4,
 "nbformat_minor": 0
}
